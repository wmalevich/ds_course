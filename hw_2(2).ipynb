{
  "nbformat": 4,
  "nbformat_minor": 0,
  "metadata": {
    "colab": {
      "provenance": [],
      "gpuType": "T4",
      "authorship_tag": "ABX9TyMwiHWwgXd6LvQ40u4DObho",
      "include_colab_link": true
    },
    "kernelspec": {
      "name": "python3",
      "display_name": "Python 3"
    },
    "language_info": {
      "name": "python"
    },
    "accelerator": "GPU"
  },
  "cells": [
    {
      "cell_type": "markdown",
      "metadata": {
        "id": "view-in-github",
        "colab_type": "text"
      },
      "source": [
        "<a href=\"https://colab.research.google.com/github/wmalevich/ds_course/blob/main/hw_2(2).ipynb\" target=\"_parent\"><img src=\"https://colab.research.google.com/assets/colab-badge.svg\" alt=\"Open In Colab\"/></a>"
      ]
    },
    {
      "cell_type": "code",
      "execution_count": null,
      "metadata": {
        "id": "tBlUFeaE1sRg"
      },
      "outputs": [],
      "source": [
        "import tensorflow as tf\n",
        "from tensorflow.keras.preprocessing.sequence import pad_sequences\n",
        "from tensorflow.keras.layers import Embedding, LSTM, Dense, Bidirectional\n",
        "from tensorflow.keras.preprocessing.text import Tokenizer\n",
        "from tensorflow.keras.models import Sequential\n",
        "from tensorflow.keras.optimizers import Adam\n",
        "import pandas as pd\n",
        "import numpy as np"
      ]
    },
    {
      "cell_type": "code",
      "source": [
        "!pip install -q opendatasets"
      ],
      "metadata": {
        "id": "lGeQCYwY2E2N"
      },
      "execution_count": null,
      "outputs": []
    },
    {
      "cell_type": "code",
      "source": [
        "import opendatasets as od"
      ],
      "metadata": {
        "id": "86ofwSSx2MGj"
      },
      "execution_count": null,
      "outputs": []
    },
    {
      "cell_type": "code",
      "source": [
        "od.download('https://www.kaggle.com/datasets/joebeachcapital/57651-spotify-songs')\n",
        "df = pd.read_csv('/content/57651-spotify-songs/Spotify Million Song Dataset_exported.csv')"
      ],
      "metadata": {
        "colab": {
          "base_uri": "https://localhost:8080/"
        },
        "id": "aYn5NjVd3t5N",
        "outputId": "39b0dac7-6b3a-4c22-86bc-bad336743369"
      },
      "execution_count": null,
      "outputs": [
        {
          "output_type": "stream",
          "name": "stdout",
          "text": [
            "Skipping, found downloaded files in \"./57651-spotify-songs\" (use force=True to force download)\n"
          ]
        }
      ]
    },
    {
      "cell_type": "code",
      "source": [
        "# Создаем объект Tokenizer для токенизации текста\n",
        "tokenizer = Tokenizer()\n",
        "\n",
        "# Получаем подмножество текстовых данных из столбца \"text\" первых 200 строк из DataFrame `df`\n",
        "text_subset_200 = df[\"text\"][:200]\n",
        "\n",
        "# Инициализируем список для хранения текстов песен\n",
        "song_texts = []\n",
        "\n",
        "# Проходимся по каждой строке текста в подмножестве и преобразуем его в список слов\n",
        "for text in text_subset_200:\n",
        "    # Приводим строку к нижнему регистру, удаляем лишние пробелы и разбиваем на слова\n",
        "    song_text = text.lower().replace(\"  \", \"\").split(\"\\n\")\n",
        "    # Фильтруем пустые строки\n",
        "    song_text = [word for word in song_text if word != \"\"]\n",
        "    # Добавляем список слов в список текстов песен\n",
        "    song_texts.append(song_text)\n",
        "\n",
        "# Собираем все слова из текстов в один список, формируя корпус\n",
        "corpus = [word for song_text in song_texts for word in song_text]\n",
        "\n",
        "# Обучаем токенизатор на корпусе для преобразования слов в уникальные целочисленные идентификаторы\n",
        "tokenizer.fit_on_texts(corpus)\n",
        "\n",
        "# Вычисляем общее количество уникальных слов в корпусе для последующего использования в модели\n",
        "total_words = len(tokenizer.word_index) + 1"
      ],
      "metadata": {
        "id": "BA_5yUcL-o6l",
        "colab": {
          "base_uri": "https://localhost:8080/"
        },
        "outputId": "bf0d2063-5c99-4904-fe68-bfc07c205fd8"
      },
      "execution_count": null,
      "outputs": [
        {
          "output_type": "stream",
          "name": "stdout",
          "text": [
            "0      Look at her face, it's a wonderful face  \\nAnd...\n",
            "1      Take it easy with me, please  \\nTouch me gentl...\n",
            "2      I'll never know why I had to go  \\nWhy I had t...\n",
            "3      Making somebody happy is a question of give an...\n",
            "4      Making somebody happy is a question of give an...\n",
            "                             ...                        \n",
            "195    Get yourself cooler, lay yourself low  \\nCoinc...\n",
            "196    It's deep insignus  \\nThat knows me well  \\nIt...\n",
            "197    Blues hearted lady sleepy was she,  \\nLove for...\n",
            "198    I was a city boy  \\nCaught up in a city way  \\...\n",
            "199    Shame shame shame on you Miss Roxy  \\nShame sh...\n",
            "Name: text, Length: 200, dtype: object\n"
          ]
        }
      ]
    },
    {
      "cell_type": "code",
      "source": [
        "# Создаем пустой список для хранения последовательностей токенов\n",
        "input_sequences = []\n",
        "\n",
        "# Проходимся по каждой строке текста в корпусе\n",
        "for line in corpus:\n",
        "    # Преобразуем текущую строку текста в последовательность токенов\n",
        "    token_list = tokenizer.texts_to_sequences([line])[0]\n",
        "\n",
        "    # Создаем n-граммы для текущей строки текста\n",
        "    for i in range(1, len(token_list)):\n",
        "        n_gram_sequence = token_list[:i+1]  # Формируем последовательность, начиная с первого слова и последовательно добавляя по одному слову\n",
        "        input_sequences.append(n_gram_sequence)  # Добавляем полученную последовательность в список\n",
        "\n",
        "# Печатаем последний элемент из списка token_list\n",
        "print(token_list)\n",
        "\n",
        "# Вычисляем максимальную длину последовательности в input_sequences\n",
        "max_sequence_len = max([len(x) for x in input_sequences])\n",
        "\n",
        "# Преобразуем список input_sequences в numpy array и дополняем нулями до максимальной длины\n",
        "input_sequences = np.array(pad_sequences(input_sequences, maxlen=max_sequence_len, padding='pre'))\n",
        "\n",
        "# Выводим преобразованный input_sequences\n",
        "print(input_sequences)\n",
        "\n",
        "# Создаем массивы xs и labels\n",
        "xs, labels = input_sequences[:, :-1], input_sequences[:, -1]\n",
        "\n",
        "# Создаем трехмерный массив ys для хранения меток в формате one-hot encoding\n",
        "ys = np.zeros((len(xs), max_sequence_len, total_words), dtype=np.bool_)\n",
        "\n",
        "# Проходимся по каждой последовательности в xs\n",
        "for i, sequence in enumerate(xs):\n",
        "    # Проходимся по каждому токену в последовательности\n",
        "    for j, word_index in enumerate(sequence):\n",
        "        # Устанавливаем соответствующий элемент вектора one-hot encoding в 1\n",
        "        ys[i, j, word_index] = 1"
      ],
      "metadata": {
        "id": "Idufc_m3eJ3r",
        "colab": {
          "base_uri": "https://localhost:8080/"
        },
        "outputId": "81730c66-82c4-4b7f-c7f1-5e309dc349da"
      },
      "execution_count": null,
      "outputs": [
        {
          "output_type": "stream",
          "name": "stdout",
          "text": [
            "[149, 149, 149, 19, 35, 3, 183, 101, 56, 101, 56, 56]\n",
            "[[  0   0   0 ...   0 108  60]\n",
            " [  0   0   0 ... 108  60  88]\n",
            " [  0   0   0 ...  60  88 199]\n",
            " ...\n",
            " [  0   0   0 ... 101  56 101]\n",
            " [  0   0   0 ...  56 101  56]\n",
            " [  0   0   0 ... 101  56  56]]\n"
          ]
        }
      ]
    },
    {
      "cell_type": "code",
      "source": [
        "import numpy as np\n",
        "import tensorflow as tf\n",
        "from tensorflow.keras.preprocessing.sequence import pad_sequences\n",
        "from tensorflow.keras.preprocessing.text import Tokenizer\n",
        "\n",
        "# Определение гиперпараметров модели\n",
        "latent_dim = 128  # Размерность скрытых состояний LSTM\n",
        "\n",
        "# Создание кодирующей LSTM\n",
        "encoder_inputs = tf.keras.layers.Input(shape=(max_sequence_len-1,))\n",
        "encoder_embedding = tf.keras.layers.Embedding(total_words, latent_dim, input_length=max_sequence_len-1)(encoder_inputs)\n",
        "encoder_lstm = tf.keras.layers.LSTM(latent_dim, return_sequences=True, return_state=True)\n",
        "encoder_outputs, state_h, state_c = encoder_lstm(encoder_embedding)\n",
        "encoder_states = [state_h, state_c]\n",
        "\n",
        "# Создание декодирующей LSTM с вниманием\n",
        "decoder_inputs = tf.keras.layers.Input(shape=(max_sequence_len-1,))\n",
        "decoder_embedding = tf.keras.layers.Embedding(total_words, latent_dim, input_length=max_sequence_len-1)(decoder_inputs)\n",
        "decoder_lstm = tf.keras.layers.LSTM(latent_dim, return_sequences=True, return_state=True)\n",
        "decoder_outputs, _, _ = decoder_lstm(decoder_embedding, initial_state=encoder_states)\n",
        "\n",
        "# Добавление слоя Attention\n",
        "attention_layer = tf.keras.layers.Attention()\n",
        "context_vector = attention_layer([decoder_outputs, encoder_outputs])\n",
        "\n",
        "# Объединение контекстного вектора с выходом декодера\n",
        "decoder_combined_context = tf.keras.layers.Concatenate(axis=-1)([context_vector, decoder_outputs])\n",
        "\n",
        "# Полносвязанный слой для получения предсказаний\n",
        "decoder_dense = tf.keras.layers.Dense(total_words, activation='softmax')\n",
        "decoder_outputs = decoder_dense(decoder_combined_context)\n",
        "\n",
        "# Создание модели seq2seq\n",
        "model = tf.keras.models.Model([encoder_inputs, decoder_inputs], decoder_outputs)\n",
        "\n",
        "# Компиляция модели\n",
        "model.compile(optimizer='adam', loss='categorical_crossentropy', metrics=['accuracy'])\n",
        "\n",
        "# Подготовка меток\n",
        "ys_corrected = ys[:, :-1, :]\n",
        "\n",
        "from sklearn.model_selection import train_test_split\n",
        "\n",
        "# Разделение данных на обучающую и тестовую выборки\n",
        "x_train, x_test, y_train, y_test = train_test_split(xs, ys_corrected, test_size=0.2, random_state=42)\n",
        "\n",
        "# Обучение модели на обучающих данных\n",
        "history = model.fit([x_train, x_train], y_train, epochs=5, batch_size=32, verbose=1, validation_data=([x_test, x_test], y_test))\n",
        "\n",
        "# Обучение модели\n",
        "#history = model.fit([xs, xs], ys_corrected, epochs=10, verbose=1)"
      ],
      "metadata": {
        "colab": {
          "base_uri": "https://localhost:8080/"
        },
        "id": "0GZwt79Crqnz",
        "outputId": "3519ea84-4bca-4df8-a036-18295ab8bb2d"
      },
      "execution_count": null,
      "outputs": [
        {
          "output_type": "stream",
          "name": "stdout",
          "text": [
            "Epoch 1/5\n",
            "1029/1029 [==============================] - 226s 211ms/step - loss: 1.0896 - accuracy: 0.8417 - val_loss: 0.5348 - val_accuracy: 0.9172\n",
            "Epoch 2/5\n",
            "1029/1029 [==============================] - 212s 206ms/step - loss: 0.3340 - accuracy: 0.9511 - val_loss: 0.2056 - val_accuracy: 0.9733\n",
            "Epoch 3/5\n",
            "1029/1029 [==============================] - 209s 203ms/step - loss: 0.1333 - accuracy: 0.9829 - val_loss: 0.0968 - val_accuracy: 0.9884\n",
            "Epoch 4/5\n",
            "1029/1029 [==============================] - 211s 205ms/step - loss: 0.0582 - accuracy: 0.9930 - val_loss: 0.0508 - val_accuracy: 0.9941\n",
            "Epoch 5/5\n",
            "1029/1029 [==============================] - 211s 205ms/step - loss: 0.0255 - accuracy: 0.9972 - val_loss: 0.0293 - val_accuracy: 0.9967\n"
          ]
        }
      ]
    },
    {
      "cell_type": "code",
      "source": [
        "'''import numpy as np\n",
        "import tensorflow as tf\n",
        "from tensorflow.keras.preprocessing.sequence import pad_sequences\n",
        "from tensorflow.keras.preprocessing.text import Tokenizer\n",
        "\n",
        "# Предположим, что у вас уже есть подготовленные данные и токенизатор\n",
        "\n",
        "# Определение гиперпараметров модели\n",
        "latent_dim = 128  # Размерность скрытых состояний LSTM\n",
        "\n",
        "# Создание кодирующей LSTM\n",
        "encoder_inputs = tf.keras.layers.Input(shape=(max_sequence_len-1,))\n",
        "encoder_embedding = tf.keras.layers.Embedding(total_words, latent_dim, input_length=max_sequence_len-1)(encoder_inputs)\n",
        "encoder_lstm = tf.keras.layers.LSTM(latent_dim, return_state=True)\n",
        "encoder_outputs, state_h, state_c = encoder_lstm(encoder_embedding)\n",
        "encoder_states = [state_h, state_c]\n",
        "\n",
        "# Создание декодирующей LSTM\n",
        "decoder_inputs = tf.keras.layers.Input(shape=(max_sequence_len-1,))\n",
        "decoder_embedding_layer = tf.keras.layers.Embedding(total_words, latent_dim, input_length=max_sequence_len-1)\n",
        "decoder_embedding = decoder_embedding_layer(decoder_inputs)\n",
        "decoder_lstm = tf.keras.layers.LSTM(latent_dim, return_sequences=True, return_state=True)\n",
        "decoder_outputs, _, _ = decoder_lstm(decoder_embedding, initial_state=encoder_states)\n",
        "decoder_dense = tf.keras.layers.Dense(total_words, activation='softmax')\n",
        "decoder_outputs = decoder_dense(decoder_outputs)\n",
        "\n",
        "# Создание модели seq2seq\n",
        "model = tf.keras.models.Model([encoder_inputs, decoder_inputs], decoder_outputs)\n",
        "\n",
        "# Компиляция модели\n",
        "model.compile(optimizer='adam', loss='categorical_crossentropy', metrics=['accuracy'])\n",
        "\n",
        "ys_corrected = ys[:, :-1, :]\n",
        "\n",
        "# Обучение модели\n",
        "history = model.fit([xs, xs], ys_corrected, epochs=10, verbose=1)'''"
      ],
      "metadata": {
        "colab": {
          "base_uri": "https://localhost:8080/"
        },
        "id": "rQzU5yZnpPM2",
        "outputId": "9ec424b1-31f2-4898-dc40-bfd4c45d569e"
      },
      "execution_count": null,
      "outputs": [
        {
          "output_type": "stream",
          "name": "stdout",
          "text": [
            "Epoch 1/10\n",
            "332/332 [==============================] - 14s 32ms/step - loss: 1.6931 - accuracy: 0.7894\n",
            "Epoch 2/10\n",
            "332/332 [==============================] - 3s 9ms/step - loss: 1.0282 - accuracy: 0.8245\n",
            "Epoch 3/10\n",
            "332/332 [==============================] - 3s 10ms/step - loss: 0.7127 - accuracy: 0.8807\n",
            "Epoch 4/10\n",
            "332/332 [==============================] - 2s 7ms/step - loss: 0.5091 - accuracy: 0.9211\n",
            "Epoch 5/10\n",
            "332/332 [==============================] - 2s 7ms/step - loss: 0.3747 - accuracy: 0.9429\n",
            "Epoch 6/10\n",
            "332/332 [==============================] - 3s 8ms/step - loss: 0.2737 - accuracy: 0.9618\n",
            "Epoch 7/10\n",
            "332/332 [==============================] - 3s 8ms/step - loss: 0.1983 - accuracy: 0.9736\n",
            "Epoch 8/10\n",
            "332/332 [==============================] - 3s 9ms/step - loss: 0.1443 - accuracy: 0.9808\n",
            "Epoch 9/10\n",
            "332/332 [==============================] - 3s 8ms/step - loss: 0.1043 - accuracy: 0.9865\n",
            "Epoch 10/10\n",
            "332/332 [==============================] - 2s 7ms/step - loss: 0.0744 - accuracy: 0.9907\n"
          ]
        }
      ]
    },
    {
      "cell_type": "code",
      "source": [
        "import numpy as np\n",
        "import tensorflow as tf\n",
        "from tensorflow.keras.preprocessing.sequence import pad_sequences\n",
        "from tensorflow.keras.preprocessing.text import Tokenizer\n",
        "\n",
        "# Определение гиперпараметров модели\n",
        "latent_dim = 128  # Размерность скрытых состояний LSTM\n",
        "\n",
        "# Создание кодирующей LSTM\n",
        "encoder_inputs = tf.keras.layers.Input(shape=(max_sequence_len-1,))\n",
        "encoder_embedding = tf.keras.layers.Embedding(total_words, latent_dim, input_length=max_sequence_len-1)(encoder_inputs)\n",
        "encoder_lstm = tf.keras.layers.LSTM(latent_dim, return_sequences=True, return_state=True)\n",
        "encoder_outputs, state_h, state_c = encoder_lstm(encoder_embedding)\n",
        "encoder_states = [state_h, state_c]\n",
        "\n",
        "# Создание декодирующей LSTM с вниманием\n",
        "decoder_inputs = tf.keras.layers.Input(shape=(max_sequence_len-1,))\n",
        "decoder_embedding = tf.keras.layers.Embedding(total_words, latent_dim, input_length=max_sequence_len-1)(decoder_inputs)\n",
        "decoder_lstm = tf.keras.layers.LSTM(latent_dim, return_sequences=True, return_state=True)\n",
        "decoder_outputs, _, _ = decoder_lstm(decoder_embedding, initial_state=encoder_states)\n",
        "\n",
        "# Добавление слоя Attention\n",
        "attention_layer = tf.keras.layers.Attention()\n",
        "context_vector = attention_layer([decoder_outputs, encoder_outputs])\n",
        "\n",
        "# Объединение контекстного вектора с выходом декодера\n",
        "decoder_combined_context = tf.keras.layers.Concatenate(axis=-1)([context_vector, decoder_outputs])\n",
        "\n",
        "# Добавление слоя отсева\n",
        "decoder_dropout = tf.keras.layers.Dropout(0.5)  # Указываем вероятность \"выключения\" нейронов\n",
        "decoder_outputs = decoder_dropout(decoder_combined_context)\n",
        "\n",
        "# Полносвязанный слой для получения предсказаний\n",
        "decoder_dense = tf.keras.layers.Dense(total_words, activation='softmax')\n",
        "decoder_outputs = decoder_dense(decoder_outputs)\n",
        "\n",
        "# Создание модели seq2seq\n",
        "model = tf.keras.models.Model([encoder_inputs, decoder_inputs], decoder_outputs)\n",
        "\n",
        "# Компиляция модели\n",
        "model.compile(optimizer='adam', loss='categorical_crossentropy', metrics=['accuracy'])\n",
        "\n",
        "# Подготовка меток\n",
        "ys_corrected = ys[:, :-1, :]\n",
        "\n",
        "from sklearn.model_selection import train_test_split\n",
        "\n",
        "# Разделение данных на обучающую и тестовую выборки\n",
        "x_train, x_test, y_train, y_test = train_test_split(xs, ys_corrected, test_size=0.2, random_state=42)\n",
        "\n",
        "# Обучение модели на обучающих данных\n",
        "history = model.fit([x_train, x_train], y_train, epochs=5, batch_size=64, verbose=1, validation_data=([x_test, x_test], y_test))\n",
        "\n",
        "# Обучение модели\n",
        "#history = model.fit([xs, xs], ys_corrected, epochs=10, verbose=1)"
      ],
      "metadata": {
        "colab": {
          "base_uri": "https://localhost:8080/"
        },
        "id": "A6pt3MaMNvqw",
        "outputId": "185d3ffc-e548-4e71-958b-37fea49708ba"
      },
      "execution_count": null,
      "outputs": [
        {
          "output_type": "stream",
          "name": "stdout",
          "text": [
            "Epoch 1/5\n",
            "515/515 [==============================] - 215s 397ms/step - loss: 1.4411 - accuracy: 0.8065 - val_loss: 0.9512 - val_accuracy: 0.8392\n",
            "Epoch 2/5\n",
            "515/515 [==============================] - 191s 371ms/step - loss: 0.7092 - accuracy: 0.8794 - val_loss: 0.4832 - val_accuracy: 0.9285\n",
            "Epoch 3/5\n",
            "515/515 [==============================] - 184s 358ms/step - loss: 0.3950 - accuracy: 0.9380 - val_loss: 0.2867 - val_accuracy: 0.9605\n",
            "Epoch 4/5\n",
            "515/515 [==============================] - 172s 334ms/step - loss: 0.2499 - accuracy: 0.9629 - val_loss: 0.1867 - val_accuracy: 0.9762\n",
            "Epoch 5/5\n",
            "515/515 [==============================] - 172s 334ms/step - loss: 0.1670 - accuracy: 0.9768 - val_loss: 0.1264 - val_accuracy: 0.9850\n"
          ]
        }
      ]
    },
    {
      "cell_type": "code",
      "source": [
        "import matplotlib.pyplot as plt\n",
        "\n",
        "# Построение графика потерь на обучающей и тестовой выборках\n",
        "plt.plot(history.history['loss'], label='Training Loss')\n",
        "plt.plot(history.history['val_loss'], label='Validation Loss')\n",
        "plt.xlabel('Epochs')\n",
        "plt.ylabel('Loss')\n",
        "plt.title('Training and Validation Loss')\n",
        "plt.legend()\n",
        "plt.show()\n",
        "\n",
        "# Построение графика точности на обучающей и тестовой выборках\n",
        "plt.plot(history.history['accuracy'], label='Training Accuracy')\n",
        "plt.plot(history.history['val_accuracy'], label='Validation Accuracy')\n",
        "plt.xlabel('Epochs')\n",
        "plt.ylabel('Accuracy')\n",
        "plt.title('Training and Validation Accuracy')\n",
        "plt.legend()\n",
        "plt.show()"
      ],
      "metadata": {
        "colab": {
          "base_uri": "https://localhost:8080/",
          "height": 927
        },
        "id": "S-kqoApO5801",
        "outputId": "cfce322c-165e-4ec2-b350-b3521f4740a5"
      },
      "execution_count": null,
      "outputs": [
        {
          "output_type": "display_data",
          "data": {
            "text/plain": [
              "<Figure size 640x480 with 1 Axes>"
            ],
            "image/png": "[encoded data removed]"
          },
          "metadata": {}
        },
        {
          "output_type": "display_data",
          "data": {
            "text/plain": [
              "<Figure size 640x480 with 1 Axes>"
            ],
            "image/png": "[encoded data removed]"
          },
          "metadata": {}
        }
      ]
    },
    {
      "cell_type": "code",
      "source": [
        "import numpy as np\n",
        "from tensorflow.keras.preprocessing.sequence import pad_sequences\n",
        "\n",
        "# Начальная фраза\n",
        "seed_text = \"look at her face it's a wonderful face\"\n",
        "# Количество слов для генерации\n",
        "next_words = 5\n",
        "\n",
        "# Генерация текста\n",
        "for _ in range(next_words):\n",
        "    # Преобразование начальной фразы в последовательность токенов\n",
        "    token_list = tokenizer.texts_to_sequences([seed_text])[0]\n",
        "    # Добавление заполнения до максимальной длины последовательности\n",
        "    token_list = pad_sequences([token_list], maxlen=max_sequence_len-1, padding='pre')\n",
        "    # Предсказание следующего слова\n",
        "    predicted = np.argmax(model.predict([token_list, token_list]), axis=-1)\n",
        "    # Извлечение предсказанных слов из индексов\n",
        "    output_words = []\n",
        "    for predicted_index in predicted[0]:\n",
        "        for word, index in tokenizer.word_index.items():\n",
        "            if index == predicted_index:\n",
        "                output_words.append(word)\n",
        "                break\n",
        "    # Добавление предсказанных слов к последовательности\n",
        "    seed_text += \" \" + \" \".join(output_words)\n",
        "\n",
        "# Вывод сгенерированного текста\n",
        "print(seed_text)"
      ],
      "metadata": {
        "colab": {
          "base_uri": "https://localhost:8080/"
        },
        "id": "XVk3tTsWz2Tr",
        "outputId": "ae28eb2f-42f0-4079-f5fe-56b64dfe0e6d"
      },
      "execution_count": null,
      "outputs": [
        {
          "output_type": "stream",
          "name": "stdout",
          "text": [
            "1/1 [==============================] - 0s 65ms/step\n",
            "1/1 [==============================] - 0s 31ms/step\n",
            "1/1 [==============================] - 0s 92ms/step\n",
            "1/1 [==============================] - 0s 25ms/step\n",
            "1/1 [==============================] - 0s 28ms/step\n",
            "look at her face it's a wonderful face look at her face it's a memory face look at her face it's a memory face look at her face it's a memory chance to air way got their got hard got to a be got on got up hard hard know know to air way got their got hard got to to my got on got on on on to to to air way got their got hard got to to my got on got on on on to to\n"
          ]
        }
      ]
    },
    {
      "cell_type": "code",
      "source": [],
      "metadata": {
        "id": "ZiVXdLZb1hZL"
      },
      "execution_count": null,
      "outputs": []
    }
  ]
}