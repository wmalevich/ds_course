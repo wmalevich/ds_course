{
  "nbformat": 4,
  "nbformat_minor": 0,
  "metadata": {
    "colab": {
      "provenance": [],
      "authorship_tag": "ABX9TyOHB5FTdegCqbXfC1zx6OIH",
      "include_colab_link": true
    },
    "kernelspec": {
      "name": "python3",
      "display_name": "Python 3"
    },
    "language_info": {
      "name": "python"
    }
  },
  "cells": [
    {
      "cell_type": "markdown",
      "metadata": {
        "id": "view-in-github",
        "colab_type": "text"
      },
      "source": [
        "<a href=\"https://colab.research.google.com/github/wmalevich/ds_course/blob/main/hw4.ipynb\" target=\"_parent\"><img src=\"https://colab.research.google.com/assets/colab-badge.svg\" alt=\"Open In Colab\"/></a>"
      ]
    },
    {
      "cell_type": "code",
      "execution_count": null,
      "metadata": {
        "colab": {
          "base_uri": "https://localhost:8080/"
        },
        "id": "rcalVSZfoPYM",
        "outputId": "e2600a17-0222-4f70-d355-f4d7e33f15f2"
      },
      "outputs": [
        {
          "output_type": "stream",
          "name": "stdout",
          "text": [
            "Toyota Camry 2022\n",
            "Двигатель запущен!\n"
          ]
        }
      ],
      "source": [
        "#2\n",
        "class Car:\n",
        "    def __init__(self, make, model, year):\n",
        "        self.make = make\n",
        "        self.model = model\n",
        "        self.year = year\n",
        "        self.engine_started = False\n",
        "\n",
        "    def start_engine(self):\n",
        "        if not self.engine_started:\n",
        "            print(\"Двигатель запущен!\")\n",
        "            self.engine_started = True\n",
        "        else:\n",
        "            print(\"Двигатель уже запущен.\")\n",
        "\n",
        "    def display_info(self):\n",
        "        print(f\"{self.make} {self.model} {self.year}\")\n",
        "\n",
        "my_car = Car(\"Toyota\", \"Camry\", 2022)\n",
        "my_car.display_info()\n",
        "\n",
        "my_car.start_engine()"
      ]
    },
    {
      "cell_type": "code",
      "source": [
        "#7\n",
        "class ElectricCar(Car):\n",
        "    def start_engine(self):\n",
        "        print(\"Тихий запуск двигателя!\")\n",
        "\n",
        "my_electric_car = ElectricCar(\"Tesla\", \"Model S\", 2021)\n",
        "my_electric_car.display_info()\n",
        "\n",
        "my_electric_car.start_engine()"
      ],
      "metadata": {
        "colab": {
          "base_uri": "https://localhost:8080/"
        },
        "id": "aGYH53j5o-Gu",
        "outputId": "49331724-0180-4234-b021-fd3a0484f5fc"
      },
      "execution_count": null,
      "outputs": [
        {
          "output_type": "stream",
          "name": "stdout",
          "text": [
            "Tesla Model S 2021\n",
            "Тихий запуск двигателя!\n"
          ]
        }
      ]
    },
    {
      "cell_type": "code",
      "source": [
        "#12\n",
        "class Car:\n",
        "    def __init__(self, make, model, year, engine_type):\n",
        "        self.make = make\n",
        "        self.model = model\n",
        "        self.year = year\n",
        "        self._engine_type = None\n",
        "\n",
        "        self.engine_type = engine_type\n",
        "\n",
        "    @property\n",
        "    def engine_type(self):\n",
        "        return self._engine_type\n",
        "\n",
        "    @engine_type.setter\n",
        "    def engine_type(self, value):\n",
        "        if value.lower() not in ['бензиновый', 'электро', 'гибрид']:\n",
        "            raise ValueError(\"Недопустимый тип двигателя\")\n",
        "        else:\n",
        "            self._engine_type = value.lower()\n",
        "\n",
        "    def start_engine(self):\n",
        "        print(\"Двигатель запущен!\")\n",
        "\n",
        "    def display_info(self):\n",
        "        print(f\"{self.make} {self.model} {self.year} с двигателем типа: {self.engine_type}\")\n",
        "\n",
        "try:\n",
        "    my_car = Car(\"Toyota\", \"Camry\", 2022, \"бензиновый\")\n",
        "    my_car.display_info()\n",
        "\n",
        "    my_car.engine_type = \"дизель\"\n",
        "\n",
        "except ValueError as e:\n",
        "    print(f\"Ошибка: {e}\")"
      ],
      "metadata": {
        "colab": {
          "base_uri": "https://localhost:8080/"
        },
        "id": "Q2KZLqLKpsv7",
        "outputId": "aad53d6f-f35b-4958-a347-f63d5795bb33"
      },
      "execution_count": null,
      "outputs": [
        {
          "output_type": "stream",
          "name": "stdout",
          "text": [
            "Toyota Camry 2022 с двигателем типа: бензиновый\n",
            "Ошибка: Недопустимый тип двигателя\n"
          ]
        }
      ]
    }
  ]
}