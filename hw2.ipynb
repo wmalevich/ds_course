{
  "cells": [
    {
      "cell_type": "code",
      "execution_count": 3,
      "metadata": {
        "colab": {
          "base_uri": "https://localhost:8080/"
        },
        "id": "C8VyRaxceDyQ",
        "outputId": "d5136874-20c0-45ae-ab07-481f7bbbc04b"
      },
      "outputs": [
        {
          "name": "stdout",
          "output_type": "stream",
          "text": [
            "Введите строку: qwerty\n",
            "Количество символов в строке: 6\n"
          ]
        }
      ],
      "source": [
        "def count_characters(input_string):\n",
        "    character_count = len(input_string)\n",
        "    return character_count\n",
        "\n",
        "result = count_characters(input(\"Введите строку: \"))\n",
        "print(f\"Количество символов в строке: {result}\")\n",
        "#Сложность алгоритма: O(n)"
      ]
    },
    {
      "cell_type": "code",
      "execution_count": 5,
      "metadata": {
        "colab": {
          "base_uri": "https://localhost:8080/"
        },
        "id": "0pCNgxuafm-4",
        "outputId": "117289a7-3d79-46d8-9eb4-fc4dff9b6fb4"
      },
      "outputs": [
        {
          "name": "stdout",
          "output_type": "stream",
          "text": [
            "Имя: Мария, Возраст: 19, Курс: 3\n"
          ]
        }
      ],
      "source": [
        "def print_student_info(student_info):\n",
        "    if 'name' in student_info and 'age' in student_info and 'course' in student_info:\n",
        "\n",
        "        info_string = f\"Имя: {student_info['name']}, Возраст: {student_info['age']}, Курс: {student_info['course']}\"\n",
        "\n",
        "        print(info_string)\n",
        "    else:\n",
        "        print(\"Ошибка\")\n",
        "\n",
        "student_data = {'name': 'Мария', 'age': 19, 'course': 3}\n",
        "print_student_info(student_data)\n",
        "#Сложность алгоритма: O(1)"
      ]
    }
  ],
  "metadata": {
    "colab": {
      "provenance": []
    },
    "kernelspec": {
      "display_name": "Python 3",
      "name": "python3"
    },
    "language_info": {
      "name": "python"
    }
  },
  "nbformat": 4,
  "nbformat_minor": 0
}
